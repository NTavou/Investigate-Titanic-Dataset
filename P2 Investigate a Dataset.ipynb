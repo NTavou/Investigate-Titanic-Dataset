{
 "cells": [
  {
   "cell_type": "markdown",
   "metadata": {},
   "source": [
    "# P2 Investigate a Dataset"
   ]
  },
  {
   "cell_type": "markdown",
   "metadata": {
    "collapsed": true
   },
   "source": [
    "## Introduction\n",
    "The [sinking of the RMS Titanic](https://en.wikipedia.org/wiki/Sinking_of_the_RMS_Titanic) is one of the most infamous \n",
    "shipwrecks in history. On April 15, 1912, during her maiden voyage, the Titanic sank after colliding with an iceberg, \n",
    "killing 1502 out of 2224 passengers and crew. The disaster caused widespread outrage over the lack of lifeboats, lax regulations, and the unequal treatment of the three passenger classes during the evacuation. Subsequent inquiries recommended sweeping changes to maritime regulations, leading to the establishment in 1914 of the International Convention for the Safety of Life at Sea (SOLAS), which still governs maritime safety today.\n",
    "\n",
    "This project investigates the [titanic_data.csv](https://d17h27t6h515a5.cloudfront.net/topher/2016/September/57e9a84c_titanic-data/titanic-data.csv) dataset which contains demographics and passenger information from \n",
    "891 of the 2224 passengers and crew on board the Titanic. In the following analysis we will investigate characteristics of people that were likely to survive. We will use the programming language Python as our data analysis tool.\n",
    "More specifically we will explore the following questions regarding the aforementioned data set:\n",
    "\n",
    "[Had gender a significant effect in survival?](#whichgender)   \n",
    "[Was age group a significant factor in survival?](#whichage)  \n",
    "[Had people who travelled alone or people who travelled with family more chances to survive?](#hadpeople)  \n",
    "[Which class had the most chances to survive?](#wasclass)  \n",
    "\n",
    "This project is organised as follows:  \n",
    "The first section presents the [Data Wrangling](#datawrangling) phase were any changes that were made to the initial data set are documented.  \n",
    "The [Exploration Phase](#explorationphase) follows were the above stated questions are investigated and relevant data visualizations are provided.  \n",
    "The project summarizes the findings of the Exploration Phase with the [Conclusions Phase](#conclusionsphase) which presents the results of the analysis and communicates any limitations involving it.\n",
    "\n",
    "Before beginning our analysis we should note that when we refer to the 'Titanic passengers' or 'Titanic dataset' in our analysis we refer explicitly to the [sample](https://d17h27t6h515a5.cloudfront.net/topher/2016/September/57e9a84c_titanic-data/titanic-data.csv) of the Titanic passengers and not to the whole population of Titanic passengers.  \n"
   ]
  },
  {
   "cell_type": "markdown",
   "metadata": {
    "collapsed": true
   },
   "source": [
    "## Data Wrangling<a name=\"datawrangling\"></a> "
   ]
  },
  {
   "cell_type": "markdown",
   "metadata": {
    "collapsed": true
   },
   "source": [
    "First off all, we will import the relevant Python libraries to conduct our analysis, namely, [NumPy](http://www.numpy.org/) and [Pandas](http://pandas.pydata.org/):\n"
   ]
  },
  {
   "cell_type": "code",
   "execution_count": 1,
   "metadata": {
    "collapsed": true
   },
   "outputs": [],
   "source": [
    "import pandas as pd\n",
    "import numpy as np"
   ]
  },
  {
   "cell_type": "markdown",
   "metadata": {
    "collapsed": true
   },
   "source": [
    "Then, we need to load the data into a dataframe:\n"
   ]
  },
  {
   "cell_type": "code",
   "execution_count": 2,
   "metadata": {
    "collapsed": false
   },
   "outputs": [],
   "source": [
    "titanic_df = pd.read_csv('titanic_data.csv', header=0)"
   ]
  },
  {
   "cell_type": "markdown",
   "metadata": {
    "collapsed": true
   },
   "source": [
    "We will have a first look at the data by previewing the first 5 rows of the dataframe titanic_df:\n"
   ]
  },
  {
   "cell_type": "code",
   "execution_count": 3,
   "metadata": {
    "collapsed": false
   },
   "outputs": [
    {
     "data": {
      "text/html": [
       "<div>\n",
       "<table border=\"1\" class=\"dataframe\">\n",
       "  <thead>\n",
       "    <tr style=\"text-align: right;\">\n",
       "      <th></th>\n",
       "      <th>PassengerId</th>\n",
       "      <th>Survived</th>\n",
       "      <th>Pclass</th>\n",
       "      <th>Name</th>\n",
       "      <th>Sex</th>\n",
       "      <th>Age</th>\n",
       "      <th>SibSp</th>\n",
       "      <th>Parch</th>\n",
       "      <th>Ticket</th>\n",
       "      <th>Fare</th>\n",
       "      <th>Cabin</th>\n",
       "      <th>Embarked</th>\n",
       "    </tr>\n",
       "  </thead>\n",
       "  <tbody>\n",
       "    <tr>\n",
       "      <th>0</th>\n",
       "      <td>1</td>\n",
       "      <td>0</td>\n",
       "      <td>3</td>\n",
       "      <td>Braund, Mr. Owen Harris</td>\n",
       "      <td>male</td>\n",
       "      <td>22.0</td>\n",
       "      <td>1</td>\n",
       "      <td>0</td>\n",
       "      <td>A/5 21171</td>\n",
       "      <td>7.2500</td>\n",
       "      <td>NaN</td>\n",
       "      <td>S</td>\n",
       "    </tr>\n",
       "    <tr>\n",
       "      <th>1</th>\n",
       "      <td>2</td>\n",
       "      <td>1</td>\n",
       "      <td>1</td>\n",
       "      <td>Cumings, Mrs. John Bradley (Florence Briggs Th...</td>\n",
       "      <td>female</td>\n",
       "      <td>38.0</td>\n",
       "      <td>1</td>\n",
       "      <td>0</td>\n",
       "      <td>PC 17599</td>\n",
       "      <td>71.2833</td>\n",
       "      <td>C85</td>\n",
       "      <td>C</td>\n",
       "    </tr>\n",
       "    <tr>\n",
       "      <th>2</th>\n",
       "      <td>3</td>\n",
       "      <td>1</td>\n",
       "      <td>3</td>\n",
       "      <td>Heikkinen, Miss. Laina</td>\n",
       "      <td>female</td>\n",
       "      <td>26.0</td>\n",
       "      <td>0</td>\n",
       "      <td>0</td>\n",
       "      <td>STON/O2. 3101282</td>\n",
       "      <td>7.9250</td>\n",
       "      <td>NaN</td>\n",
       "      <td>S</td>\n",
       "    </tr>\n",
       "    <tr>\n",
       "      <th>3</th>\n",
       "      <td>4</td>\n",
       "      <td>1</td>\n",
       "      <td>1</td>\n",
       "      <td>Futrelle, Mrs. Jacques Heath (Lily May Peel)</td>\n",
       "      <td>female</td>\n",
       "      <td>35.0</td>\n",
       "      <td>1</td>\n",
       "      <td>0</td>\n",
       "      <td>113803</td>\n",
       "      <td>53.1000</td>\n",
       "      <td>C123</td>\n",
       "      <td>S</td>\n",
       "    </tr>\n",
       "    <tr>\n",
       "      <th>4</th>\n",
       "      <td>5</td>\n",
       "      <td>0</td>\n",
       "      <td>3</td>\n",
       "      <td>Allen, Mr. William Henry</td>\n",
       "      <td>male</td>\n",
       "      <td>35.0</td>\n",
       "      <td>0</td>\n",
       "      <td>0</td>\n",
       "      <td>373450</td>\n",
       "      <td>8.0500</td>\n",
       "      <td>NaN</td>\n",
       "      <td>S</td>\n",
       "    </tr>\n",
       "  </tbody>\n",
       "</table>\n",
       "</div>"
      ],
      "text/plain": [
       "   PassengerId  Survived  Pclass  \\\n",
       "0            1         0       3   \n",
       "1            2         1       1   \n",
       "2            3         1       3   \n",
       "3            4         1       1   \n",
       "4            5         0       3   \n",
       "\n",
       "                                                Name     Sex   Age  SibSp  \\\n",
       "0                            Braund, Mr. Owen Harris    male  22.0      1   \n",
       "1  Cumings, Mrs. John Bradley (Florence Briggs Th...  female  38.0      1   \n",
       "2                             Heikkinen, Miss. Laina  female  26.0      0   \n",
       "3       Futrelle, Mrs. Jacques Heath (Lily May Peel)  female  35.0      1   \n",
       "4                           Allen, Mr. William Henry    male  35.0      0   \n",
       "\n",
       "   Parch            Ticket     Fare Cabin Embarked  \n",
       "0      0         A/5 21171   7.2500   NaN        S  \n",
       "1      0          PC 17599  71.2833   C85        C  \n",
       "2      0  STON/O2. 3101282   7.9250   NaN        S  \n",
       "3      0            113803  53.1000  C123        S  \n",
       "4      0            373450   8.0500   NaN        S  "
      ]
     },
     "execution_count": 3,
     "metadata": {},
     "output_type": "execute_result"
    }
   ],
   "source": [
    "titanic_df.head()"
   ]
  },
  {
   "cell_type": "markdown",
   "metadata": {
    "collapsed": true
   },
   "source": [
    "Our dataframe has 12 columns where each column represent a variable. Each row refers to a passenger with all his/her available info and whether he/she survived or not. The details of each variable  can be found [here](https://www.kaggle.com/c/titanic/data).   \n"
   ]
  },
  {
   "cell_type": "markdown",
   "metadata": {},
   "source": [
    "The next step in the data wrangling phase is to check if our variables have missing values:"
   ]
  },
  {
   "cell_type": "code",
   "execution_count": 4,
   "metadata": {
    "collapsed": false
   },
   "outputs": [
    {
     "name": "stdout",
     "output_type": "stream",
     "text": [
      "<class 'pandas.core.frame.DataFrame'>\n",
      "RangeIndex: 891 entries, 0 to 890\n",
      "Data columns (total 12 columns):\n",
      "PassengerId    891 non-null int64\n",
      "Survived       891 non-null int64\n",
      "Pclass         891 non-null int64\n",
      "Name           891 non-null object\n",
      "Sex            891 non-null object\n",
      "Age            714 non-null float64\n",
      "SibSp          891 non-null int64\n",
      "Parch          891 non-null int64\n",
      "Ticket         891 non-null object\n",
      "Fare           891 non-null float64\n",
      "Cabin          204 non-null object\n",
      "Embarked       889 non-null object\n",
      "dtypes: float64(2), int64(5), object(5)\n",
      "memory usage: 66.2+ KB\n"
     ]
    }
   ],
   "source": [
    "titanic_df.info()"
   ]
  },
  {
   "cell_type": "markdown",
   "metadata": {},
   "source": [
    "In total we can see that we have 891 entries (rows) and the majority of the variables have complete values (891 are non-null). Nevertheless, Age, Cabin and Embarked have nulls. More specifically we can check how many nulls we have in each variable  by creating the function below:"
   ]
  },
  {
   "cell_type": "code",
   "execution_count": 5,
   "metadata": {
    "collapsed": true
   },
   "outputs": [],
   "source": [
    "# This function creates a dataframe that presents the missing values of a dataframe (number and percentage)\n",
    "def missing_values_table(df): \n",
    "        mis_val = df.isnull().sum()\n",
    "        mis_val_percent = 100 * df.isnull().sum()/len(df)\n",
    "        mis_val_table = pd.concat([mis_val, mis_val_percent], axis=1)\n",
    "        mis_val_table_ren_columns = mis_val_table.rename(\n",
    "        columns = {0 : 'Missing Values', 1 : '% of Total Values'})\n",
    "        return mis_val_table_ren_columns "
   ]
  },
  {
   "cell_type": "markdown",
   "metadata": {},
   "source": [
    "<a name=\"table\"></a>Creating the missing values dataframe:"
   ]
  },
  {
   "cell_type": "code",
   "execution_count": 6,
   "metadata": {
    "collapsed": false
   },
   "outputs": [
    {
     "data": {
      "text/html": [
       "<div>\n",
       "<table border=\"1\" class=\"dataframe\">\n",
       "  <thead>\n",
       "    <tr style=\"text-align: right;\">\n",
       "      <th></th>\n",
       "      <th>Missing Values</th>\n",
       "      <th>% of Total Values</th>\n",
       "    </tr>\n",
       "  </thead>\n",
       "  <tbody>\n",
       "    <tr>\n",
       "      <th>PassengerId</th>\n",
       "      <td>0</td>\n",
       "      <td>0.0</td>\n",
       "    </tr>\n",
       "    <tr>\n",
       "      <th>Survived</th>\n",
       "      <td>0</td>\n",
       "      <td>0.0</td>\n",
       "    </tr>\n",
       "    <tr>\n",
       "      <th>Pclass</th>\n",
       "      <td>0</td>\n",
       "      <td>0.0</td>\n",
       "    </tr>\n",
       "    <tr>\n",
       "      <th>Name</th>\n",
       "      <td>0</td>\n",
       "      <td>0.0</td>\n",
       "    </tr>\n",
       "    <tr>\n",
       "      <th>Sex</th>\n",
       "      <td>0</td>\n",
       "      <td>0.0</td>\n",
       "    </tr>\n",
       "    <tr>\n",
       "      <th>Age</th>\n",
       "      <td>177</td>\n",
       "      <td>19.9</td>\n",
       "    </tr>\n",
       "    <tr>\n",
       "      <th>SibSp</th>\n",
       "      <td>0</td>\n",
       "      <td>0.0</td>\n",
       "    </tr>\n",
       "    <tr>\n",
       "      <th>Parch</th>\n",
       "      <td>0</td>\n",
       "      <td>0.0</td>\n",
       "    </tr>\n",
       "    <tr>\n",
       "      <th>Ticket</th>\n",
       "      <td>0</td>\n",
       "      <td>0.0</td>\n",
       "    </tr>\n",
       "    <tr>\n",
       "      <th>Fare</th>\n",
       "      <td>0</td>\n",
       "      <td>0.0</td>\n",
       "    </tr>\n",
       "    <tr>\n",
       "      <th>Cabin</th>\n",
       "      <td>687</td>\n",
       "      <td>77.1</td>\n",
       "    </tr>\n",
       "    <tr>\n",
       "      <th>Embarked</th>\n",
       "      <td>2</td>\n",
       "      <td>0.2</td>\n",
       "    </tr>\n",
       "  </tbody>\n",
       "</table>\n",
       "</div>"
      ],
      "text/plain": [
       "             Missing Values  % of Total Values\n",
       "PassengerId               0                0.0\n",
       "Survived                  0                0.0\n",
       "Pclass                    0                0.0\n",
       "Name                      0                0.0\n",
       "Sex                       0                0.0\n",
       "Age                     177               19.9\n",
       "SibSp                     0                0.0\n",
       "Parch                     0                0.0\n",
       "Ticket                    0                0.0\n",
       "Fare                      0                0.0\n",
       "Cabin                   687               77.1\n",
       "Embarked                  2                0.2"
      ]
     },
     "execution_count": 6,
     "metadata": {},
     "output_type": "execute_result"
    }
   ],
   "source": [
    "titanic_miss_val = missing_values_table(titanic_df)\n",
    "titanic_miss_val.round(1)"
   ]
  },
  {
   "cell_type": "markdown",
   "metadata": {},
   "source": [
    "According to the table above the Age variable has 177 missing values (19.9% of total values). One possible solution is to drop entirely the rows that have missing values in the Age variable. But with this approach we give away too much info that may be useful for our analysis. As a first step we can calculate the mean for the Age variable: "
   ]
  },
  {
   "cell_type": "code",
   "execution_count": 7,
   "metadata": {
    "collapsed": false
   },
   "outputs": [
    {
     "data": {
      "text/plain": [
       "29.7"
      ]
     },
     "execution_count": 7,
     "metadata": {},
     "output_type": "execute_result"
    }
   ],
   "source": [
    "round((titanic_df['Age'].mean()), 1)"
   ]
  },
  {
   "cell_type": "markdown",
   "metadata": {},
   "source": [
    "It is probably tempting to use this value on the missing Age values and proceed with the analysis. But what if we used the [titles](https://en.wikipedia.org/wiki/Title) (Mr., Mrs., Master, etc.) in the variable Name to create a new variable that will help us to better fill the missing Age values? We can clearly see from the Name variable that the second word of the name refers to the title of each passenger:"
   ]
  },
  {
   "cell_type": "code",
   "execution_count": 8,
   "metadata": {
    "collapsed": false
   },
   "outputs": [
    {
     "data": {
      "text/plain": [
       "0                              Braund, Mr. Owen Harris\n",
       "1    Cumings, Mrs. John Bradley (Florence Briggs Th...\n",
       "2                               Heikkinen, Miss. Laina\n",
       "3         Futrelle, Mrs. Jacques Heath (Lily May Peel)\n",
       "4                             Allen, Mr. William Henry\n",
       "Name: Name, dtype: object"
      ]
     },
     "execution_count": 8,
     "metadata": {},
     "output_type": "execute_result"
    }
   ],
   "source": [
    "titanic_df['Name'].head()"
   ]
  },
  {
   "cell_type": "markdown",
   "metadata": {},
   "source": [
    "So firstly we will create a new column called 'Title' that contains  the titles of the passengers:"
   ]
  },
  {
   "cell_type": "code",
   "execution_count": 9,
   "metadata": {
    "collapsed": false
   },
   "outputs": [
    {
     "data": {
      "text/plain": [
       "0      Mr\n",
       "1     Mrs\n",
       "2    Miss\n",
       "3     Mrs\n",
       "4      Mr\n",
       "Name: Title, dtype: object"
      ]
     },
     "execution_count": 9,
     "metadata": {},
     "output_type": "execute_result"
    }
   ],
   "source": [
    "# Isolating the title of each name and creating a new column named 'Title'\n",
    "titanic_df['Title'] = titanic_df.Name.str.replace('(.*, )|(\\\\..*)', '')\n",
    "titanic_df['Title'].head()"
   ]
  },
  {
   "cell_type": "markdown",
   "metadata": {
    "collapsed": false
   },
   "source": [
    "Now we need to check how many unique titles we have in our dataset:"
   ]
  },
  {
   "cell_type": "code",
   "execution_count": 10,
   "metadata": {
    "collapsed": false
   },
   "outputs": [
    {
     "data": {
      "text/plain": [
       "Mr              517\n",
       "Miss            182\n",
       "Mrs             125\n",
       "Master           40\n",
       "Dr                7\n",
       "Rev               6\n",
       "Mlle              2\n",
       "Col               2\n",
       "Major             2\n",
       "Lady              1\n",
       "Jonkheer          1\n",
       "Don               1\n",
       "Ms                1\n",
       "Mme               1\n",
       "Capt              1\n",
       "the Countess      1\n",
       "Sir               1\n",
       "Name: Title, dtype: int64"
      ]
     },
     "execution_count": 10,
     "metadata": {},
     "output_type": "execute_result"
    }
   ],
   "source": [
    "titanic_df['Title'].value_counts()"
   ]
  },
  {
   "cell_type": "markdown",
   "metadata": {
    "collapsed": false
   },
   "source": [
    "The majority of passengers have either 'Mr', 'Miss', 'Mrs' or 'Master' as a title to their name. So let's also check the number of Age missing values for each Title category:"
   ]
  },
  {
   "cell_type": "code",
   "execution_count": 11,
   "metadata": {
    "collapsed": false
   },
   "outputs": [
    {
     "data": {
      "text/plain": [
       "Mr        119\n",
       "Miss       36\n",
       "Mrs        17\n",
       "Master      4\n",
       "Dr          1\n",
       "Name: Title, dtype: int64"
      ]
     },
     "execution_count": 11,
     "metadata": {},
     "output_type": "execute_result"
    }
   ],
   "source": [
    "titanic_df[np.isnan(titanic_df[\"Age\"])].Title.value_counts()"
   ]
  },
  {
   "cell_type": "markdown",
   "metadata": {},
   "source": [
    "Now, it's time to explore the possibility of filling the missing Age values with the Age mean of each Title category. Before proceeding we need to examine if the different means for each Title category have substantial differences between each other and in ralation to the total mean for the Age value which was calculated before and was equal to 29.7:"
   ]
  },
  {
   "cell_type": "code",
   "execution_count": 12,
   "metadata": {
    "collapsed": false
   },
   "outputs": [
    {
     "data": {
      "text/plain": [
       "Title\n",
       "Mr        32.368090\n",
       "Miss      21.773973\n",
       "Mrs       35.898148\n",
       "Master     4.574167\n",
       "Dr        42.000000\n",
       "Name: Age, dtype: float64"
      ]
     },
     "execution_count": 12,
     "metadata": {},
     "output_type": "execute_result"
    }
   ],
   "source": [
    "titanic_df.groupby('Title')['Age'].mean()[['Mr','Miss','Mrs','Master','Dr']]"
   ]
  },
  {
   "cell_type": "markdown",
   "metadata": {},
   "source": [
    "We can easily see that the mean Age values for all title categories are quite different from each other. They are also different from the total mean Age value. Without doubt it is reasonable to fill the missing age values with the means of each Title category to better approximate the true age values for those passengers.  "
   ]
  },
  {
   "cell_type": "code",
   "execution_count": 13,
   "metadata": {
    "collapsed": false
   },
   "outputs": [],
   "source": [
    "# We create a copy of the initial dataframe in case we want to refer back to it\n",
    "titanic_df_fillnan = titanic_df.copy()"
   ]
  },
  {
   "cell_type": "code",
   "execution_count": 14,
   "metadata": {
    "collapsed": false
   },
   "outputs": [],
   "source": [
    "'''\n",
    "We define a function in order that replaces the missing Age values\n",
    "in each Title category with the mean Age of non missing values\n",
    "of each Title \n",
    "'''\n",
    "def replace_nan_with_mean(df, column1, column2, value2):\n",
    "    \"\"\"\" This function takes a dataframe and replaces NaN values \n",
    "    of its column1 with the calculated mean of column1 of non \n",
    "    missing values for the rows that have at column2 the value \n",
    "    of value2\"\"\" \n",
    "    df[column1] = df[column1].replace(df[(df[column2] == value2) & \\\n",
    "                (df[column1].isnull())][column1], \\\n",
    "                df[df[column2] == value2][column1].mean())"
   ]
  },
  {
   "cell_type": "code",
   "execution_count": 15,
   "metadata": {
    "collapsed": false
   },
   "outputs": [],
   "source": [
    "replace_nan_with_mean(titanic_df_fillnan, 'Age', 'Title', 'Mr')"
   ]
  },
  {
   "cell_type": "code",
   "execution_count": 16,
   "metadata": {
    "collapsed": false
   },
   "outputs": [],
   "source": [
    "replace_nan_with_mean(titanic_df_fillnan, 'Age', 'Title', 'Miss')"
   ]
  },
  {
   "cell_type": "code",
   "execution_count": 17,
   "metadata": {
    "collapsed": true
   },
   "outputs": [],
   "source": [
    "replace_nan_with_mean(titanic_df_fillnan, 'Age', 'Title', 'Mrs')"
   ]
  },
  {
   "cell_type": "code",
   "execution_count": 18,
   "metadata": {
    "collapsed": false
   },
   "outputs": [],
   "source": [
    "replace_nan_with_mean(titanic_df_fillnan, 'Age', 'Title', 'Master')"
   ]
  },
  {
   "cell_type": "code",
   "execution_count": 19,
   "metadata": {
    "collapsed": true
   },
   "outputs": [],
   "source": [
    "replace_nan_with_mean(titanic_df_fillnan, 'Age', 'Title', 'Dr')"
   ]
  },
  {
   "cell_type": "markdown",
   "metadata": {},
   "source": [
    "Going back to the [data frame](#table) with the missing values we can see that the Embarked variable has only 2 missing values. With the code below we can check how many people embarked in each port:"
   ]
  },
  {
   "cell_type": "code",
   "execution_count": 20,
   "metadata": {
    "collapsed": false
   },
   "outputs": [
    {
     "data": {
      "text/plain": [
       "S    72.440945\n",
       "C    18.897638\n",
       "Q     8.661417\n",
       "Name: Embarked, dtype: float64"
      ]
     },
     "execution_count": 20,
     "metadata": {},
     "output_type": "execute_result"
    }
   ],
   "source": [
    "# Calculating % of people embarked in each port\n",
    "titanic_df_fillnan.Embarked.value_counts()\\\n",
    "    *100/titanic_df_fillnan['Embarked'].count()"
   ]
  },
  {
   "cell_type": "markdown",
   "metadata": {},
   "source": [
    "72,4% of all passengers embarked in Southampton. We can just assume that the two passengers with the embarkation missing values embarked in Southampton. Even if our assumption is wrong we still have 889 non-missing values in this variable so this assumption doesn't really affect our analysis. "
   ]
  },
  {
   "cell_type": "code",
   "execution_count": 21,
   "metadata": {
    "collapsed": true
   },
   "outputs": [],
   "source": [
    "# Replacing NaN's in Cabin variable with 'S' (stands for Southampton)\n",
    "titanic_df_fillnan.Embarked.fillna(value='S', inplace=True)"
   ]
  },
  {
   "cell_type": "markdown",
   "metadata": {},
   "source": [
    "We will also create a new column which will represent the family size of each passenger. To achieve this we will combine the columns 'Sib Sp' and 'Parch' which refer respectively to the number of siblings/spouses and parents/children onboard. We do this because we want to examine if travelling alone or with familly had an effect with whether the passenger survived or not.   "
   ]
  },
  {
   "cell_type": "code",
   "execution_count": 22,
   "metadata": {
    "collapsed": false
   },
   "outputs": [],
   "source": [
    "# Creating a function that checks if each paasenger were alone or with family\n",
    "def check_family(df):\n",
    "    if df['SibSp'] + df['Parch'] == False:\n",
    "        return 0\n",
    "    else:\n",
    "        return 1"
   ]
  },
  {
   "cell_type": "code",
   "execution_count": 23,
   "metadata": {
    "collapsed": false
   },
   "outputs": [],
   "source": [
    "# Creating a new binary variable named 'Family' \n",
    "titanic_df_fillnan['Family'] = titanic_df_fillnan.apply(check_family, axis=1)"
   ]
  },
  {
   "cell_type": "markdown",
   "metadata": {},
   "source": [
    "We will also split our data in age groups to investigate if belonging to a certain age group had an effect on survival."
   ]
  },
  {
   "cell_type": "code",
   "execution_count": 24,
   "metadata": {
    "collapsed": false
   },
   "outputs": [],
   "source": [
    "# This function splits our data frame in predifined age groups\n",
    "def cutDF(df):\n",
    "    return pd.cut(\n",
    "        df,[0, 10, 20, 30, 40, 50, 60, 70, 80], \n",
    "        labels=['0-10', '11-20', '21-30', '31-40', '41-50', '51-60', '61-70', '71-80'])"
   ]
  },
  {
   "cell_type": "code",
   "execution_count": 25,
   "metadata": {
    "collapsed": true
   },
   "outputs": [],
   "source": [
    "titanic_df_fillnan['AgeGroup'] = titanic_df_fillnan[['Age']].apply(cutDF)"
   ]
  },
  {
   "cell_type": "markdown",
   "metadata": {},
   "source": [
    "As for the Cabin variable our dataset has 687 missing values which represents 77.1% of total values. Given this result it is reasonable to entirely drop the Cabin variable from our analysis. Furthermore, we will drop the PassengerId, Name, Ticket, SibSp and Parch variables since we are not going to use them in our analysis:"
   ]
  },
  {
   "cell_type": "code",
   "execution_count": 26,
   "metadata": {
    "collapsed": false
   },
   "outputs": [],
   "source": [
    "'''\n",
    "Dropping variables that we will not use and creating \n",
    "the final dataframe that we will use to conduct our analysis\n",
    "'''\n",
    "titanic_df_final = titanic_df_fillnan.drop(['PassengerId', 'Name','Ticket', 'SibSp', 'Parch', 'Cabin'], 1)"
   ]
  },
  {
   "cell_type": "markdown",
   "metadata": {},
   "source": [
    "## Exploration Phase<a name=\"explorationphase\"></a>"
   ]
  },
  {
   "cell_type": "markdown",
   "metadata": {},
   "source": [
    "The first step in the exploration phase is to calculate some descriptive statistics for our variables:"
   ]
  },
  {
   "cell_type": "code",
   "execution_count": 27,
   "metadata": {
    "collapsed": false
   },
   "outputs": [
    {
     "data": {
      "text/html": [
       "<div>\n",
       "<table border=\"1\" class=\"dataframe\">\n",
       "  <thead>\n",
       "    <tr style=\"text-align: right;\">\n",
       "      <th></th>\n",
       "      <th>Survived</th>\n",
       "      <th>Pclass</th>\n",
       "      <th>Age</th>\n",
       "      <th>Fare</th>\n",
       "      <th>Family</th>\n",
       "    </tr>\n",
       "  </thead>\n",
       "  <tbody>\n",
       "    <tr>\n",
       "      <th>count</th>\n",
       "      <td>891.0</td>\n",
       "      <td>891.0</td>\n",
       "      <td>891.0</td>\n",
       "      <td>891.0</td>\n",
       "      <td>891.0</td>\n",
       "    </tr>\n",
       "    <tr>\n",
       "      <th>mean</th>\n",
       "      <td>0.4</td>\n",
       "      <td>2.3</td>\n",
       "      <td>29.8</td>\n",
       "      <td>32.2</td>\n",
       "      <td>0.4</td>\n",
       "    </tr>\n",
       "    <tr>\n",
       "      <th>std</th>\n",
       "      <td>0.5</td>\n",
       "      <td>0.8</td>\n",
       "      <td>13.3</td>\n",
       "      <td>49.7</td>\n",
       "      <td>0.5</td>\n",
       "    </tr>\n",
       "    <tr>\n",
       "      <th>min</th>\n",
       "      <td>0.0</td>\n",
       "      <td>1.0</td>\n",
       "      <td>0.4</td>\n",
       "      <td>0.0</td>\n",
       "      <td>0.0</td>\n",
       "    </tr>\n",
       "    <tr>\n",
       "      <th>25%</th>\n",
       "      <td>0.0</td>\n",
       "      <td>2.0</td>\n",
       "      <td>21.8</td>\n",
       "      <td>7.9</td>\n",
       "      <td>0.0</td>\n",
       "    </tr>\n",
       "    <tr>\n",
       "      <th>50%</th>\n",
       "      <td>0.0</td>\n",
       "      <td>3.0</td>\n",
       "      <td>30.0</td>\n",
       "      <td>14.5</td>\n",
       "      <td>0.0</td>\n",
       "    </tr>\n",
       "    <tr>\n",
       "      <th>75%</th>\n",
       "      <td>1.0</td>\n",
       "      <td>3.0</td>\n",
       "      <td>35.9</td>\n",
       "      <td>31.0</td>\n",
       "      <td>1.0</td>\n",
       "    </tr>\n",
       "    <tr>\n",
       "      <th>max</th>\n",
       "      <td>1.0</td>\n",
       "      <td>3.0</td>\n",
       "      <td>80.0</td>\n",
       "      <td>512.3</td>\n",
       "      <td>1.0</td>\n",
       "    </tr>\n",
       "  </tbody>\n",
       "</table>\n",
       "</div>"
      ],
      "text/plain": [
       "       Survived  Pclass    Age   Fare  Family\n",
       "count     891.0   891.0  891.0  891.0   891.0\n",
       "mean        0.4     2.3   29.8   32.2     0.4\n",
       "std         0.5     0.8   13.3   49.7     0.5\n",
       "min         0.0     1.0    0.4    0.0     0.0\n",
       "25%         0.0     2.0   21.8    7.9     0.0\n",
       "50%         0.0     3.0   30.0   14.5     0.0\n",
       "75%         1.0     3.0   35.9   31.0     1.0\n",
       "max         1.0     3.0   80.0  512.3     1.0"
      ]
     },
     "execution_count": 27,
     "metadata": {},
     "output_type": "execute_result"
    }
   ],
   "source": [
    "titanic_descriptive_stats = titanic_df_final.describe()\n",
    "titanic_descriptive_stats.round(1)"
   ]
  },
  {
   "cell_type": "markdown",
   "metadata": {},
   "source": [
    "The variables Sex, Embarked,Title and Age Group are excluded from the above table because they are non-numerical variables. \n",
    "For the context of our analysis the **dependent variable** is **whether the passenger survived or not** and the **independent variables** are **all the other remaining variables** in our dataset. We can quickly deduce a few things about our dataset from the above dataframe:\n",
    "\n",
    "1. The mean for the Survived variable was below 0.50. This means that most people in our dataset didn't survive.  \n",
    "2. The mean Age for all passengers after filling the missing values was 29.8.  \n",
    "3. The youngest passenger was a baby approximately 5 months old (0.4*12 months = 4.8 months)  \n",
    "4. The oldest person was 80 years old.  \n",
    "5. The highest paid fare was $512.3  \n",
    "6. The mean for the Family variable was below 0.50. So most people in our dataset were travelling alone.  \n",
    "\n",
    "Now its time to explore the questions posed in the beginning of the project. Before doing this we will calculate the number of survivors in order to better understand our dataset:"
   ]
  },
  {
   "cell_type": "code",
   "execution_count": 28,
   "metadata": {
    "collapsed": true
   },
   "outputs": [],
   "source": [
    "# Imporing a plotting library to plot our graphs \n",
    "import matplotlib.pyplot as plt\n",
    "%matplotlib inline"
   ]
  },
  {
   "cell_type": "code",
   "execution_count": 29,
   "metadata": {
    "collapsed": false
   },
   "outputs": [
    {
     "data": {
      "image/png": "[encoded data removed]",
      "text/plain": [
       "<matplotlib.figure.Figure at 0x6b4c7b0>"
      ]
     },
     "metadata": {},
     "output_type": "display_data"
    }
   ],
   "source": [
    "survivors = titanic_df_final[titanic_df_final['Survived'] == 1]\n",
    "nonsurvivors = titanic_df_final[titanic_df_final['Survived'] == 0]\n",
    "\n",
    "# Creating the pie chart for survivors vs nonsurvivors\n",
    "pie_title_surv = 'Survivors vs Nonsurvivors distribution'\n",
    "pielabels_surv = ['Survivors', 'Nonsurvivors']\n",
    "sizes_surv = [len(survivors), len(nonsurvivors)]\n",
    "colors_surv = ['green', 'red']\n",
    "explode_surv = (0.05, 0.05)  \n",
    "plt.title(pie_title_surv, fontsize=14, fontweight='bold')\n",
    "\n",
    "'''\n",
    "Creating a function in order to display both the percent value and the \n",
    "original value in the pie chart\n",
    "'''\n",
    "def make_autopct(values):\n",
    "    def my_autopct(pct):\n",
    "        total = sum(values)\n",
    "        val = int(round(pct*total/100.0)+0.5)\n",
    "        return '{p:.2f}%  ({v:d})'.format(p=pct,v=val)\n",
    "    return my_autopct\n",
    "\n",
    "\n",
    "plt.pie(sizes_surv, labels=pielabels_surv, colors=colors_surv, explode=explode_surv,\n",
    "        autopct=make_autopct(sizes_surv), shadow=True, startangle=90)\n",
    "\n",
    "plt.show()"
   ]
  },
  {
   "cell_type": "markdown",
   "metadata": {},
   "source": [
    "The pie above shows that approximately **62%** or 549 passengers **perished** in the sinking versus approximately **38%** (342 passengers) who managed to **survive**.  "
   ]
  },
  {
   "cell_type": "markdown",
   "metadata": {},
   "source": [
    "### Had gender a significant effect in survival?<a name=\"whichgender\"></a>"
   ]
  },
  {
   "cell_type": "markdown",
   "metadata": {},
   "source": [
    "Lets plot some graphs to check if gender can give us insights about survival on the sinking of the Titanic.\n"
   ]
  },
  {
   "cell_type": "code",
   "execution_count": 30,
   "metadata": {
    "collapsed": false
   },
   "outputs": [
    {
     "data": {
      "image/png": "[encoded data removed]",
      "text/plain": [
       "<matplotlib.figure.Figure at 0x6b4b230>"
      ]
     },
     "metadata": {},
     "output_type": "display_data"
    }
   ],
   "source": [
    "# Plotting our graphs with the ggplot style\n",
    "plt.style.use('ggplot')\n",
    "\n",
    "males = titanic_df_final[titanic_df_final.Sex == 'male']\n",
    "females = titanic_df_final[titanic_df_final.Sex == 'female']\n",
    "\n",
    "f, (ax1, ax2) = plt.subplots(1, 2, figsize=(12,6))\n",
    "plt.subplots_adjust(left=None, bottom=None, right=None, top=None, wspace=0.4, hspace=None)\n",
    "\n",
    "# Creating the pie chart for the gender distribution of passengers\n",
    "pie_title_gender = 'Gender distribution'\n",
    "pielabels_gender = ['Males', 'Females']\n",
    "sizes_gender = [len(males), len(females)]\n",
    "colors_gender = ['lightblue', 'pink']\n",
    "explode_gender = (0.05, 0.05)  \n",
    "ax1.set_title(pie_title_gender, fontsize=14, fontweight='bold')\n",
    "\n",
    "ax1.pie(sizes_gender, labels=pielabels_gender, colors=colors_gender, explode=explode_gender,\n",
    "        autopct=make_autopct(sizes_gender), shadow=True, startangle=90)\n",
    "\n",
    "# Creating a bar chart that visualizes survivors vs nonsurvivors in each gender\n",
    "surv_gender = (len(males[males.Survived == 1]), len(females[females.Survived == 1]))\n",
    "nonsurv_gender = (len(males[males.Survived == 0]), len(females[females.Survived == 0]))\n",
    "N=2\n",
    "ind = np.arange(N)\n",
    "p1 = ax2.bar(ind, surv_gender, color='g', width = 0.6, label='Survivors', align = 'center' )\n",
    "p2 = ax2.bar(ind, nonsurv_gender, color='r', width = 0.6, bottom=surv_gender, label='Nonsurvivors', align= 'center')\n",
    "ax2.set_ylabel('Number of passengers')\n",
    "ax2.set_title('Survivors vs Nonsurvivors \\nby gender', fontweight='bold')\n",
    "ax2.tick_params(axis='x', top='off')\n",
    "ax2.tick_params(axis='y', right='off')\n",
    "\n",
    "tick_spacing1 = [0., 1.]\n",
    "bin_labels1 = ['Male', 'Female']\n",
    "\n",
    "ax2.set_xticks(tick_spacing1)\n",
    "ax2.set_xticklabels(bin_labels1)    \n",
    "\n",
    "ax2.set_yticks(np.arange(0, 650, 50))\n",
    "ax2.legend(loc='upper right')\n",
    "\n",
    "plt.show() "
   ]
  },
  {
   "cell_type": "markdown",
   "metadata": {},
   "source": [
    "From the above graphs we can notice that:  \n",
    "* Almost 2/3 of the passengers were male.  \n",
    "* The large majority of men didn't survive the sinking.  \n",
    "* Conversely, most women managed to survive.\n",
    "\n",
    "We can also calculate the percentages of survivors and nonsurvivors:"
   ]
  },
  {
   "cell_type": "code",
   "execution_count": 31,
   "metadata": {
    "collapsed": false
   },
   "outputs": [
    {
     "data": {
      "text/html": [
       "<div>\n",
       "<table border=\"1\" class=\"dataframe\">\n",
       "  <thead>\n",
       "    <tr style=\"text-align: right;\">\n",
       "      <th></th>\n",
       "      <th>female</th>\n",
       "      <th>female %</th>\n",
       "      <th>male</th>\n",
       "      <th>male %</th>\n",
       "    </tr>\n",
       "    <tr>\n",
       "      <th>Survived</th>\n",
       "      <th></th>\n",
       "      <th></th>\n",
       "      <th></th>\n",
       "      <th></th>\n",
       "    </tr>\n",
       "  </thead>\n",
       "  <tbody>\n",
       "    <tr>\n",
       "      <th>0</th>\n",
       "      <td>81</td>\n",
       "      <td>25.8</td>\n",
       "      <td>468</td>\n",
       "      <td>81.1</td>\n",
       "    </tr>\n",
       "    <tr>\n",
       "      <th>1</th>\n",
       "      <td>233</td>\n",
       "      <td>74.2</td>\n",
       "      <td>109</td>\n",
       "      <td>18.9</td>\n",
       "    </tr>\n",
       "    <tr>\n",
       "      <th>Total</th>\n",
       "      <td>314</td>\n",
       "      <td>100.0</td>\n",
       "      <td>577</td>\n",
       "      <td>100.0</td>\n",
       "    </tr>\n",
       "  </tbody>\n",
       "</table>\n",
       "</div>"
      ],
      "text/plain": [
       "          female  female %  male  male %\n",
       "Survived                                \n",
       "0             81      25.8   468    81.1\n",
       "1            233      74.2   109    18.9\n",
       "Total        314     100.0   577   100.0"
      ]
     },
     "execution_count": 31,
     "metadata": {},
     "output_type": "execute_result"
    }
   ],
   "source": [
    "# Calculating how many men and women survived/perished and creating two dataframes with those results\n",
    "survival_table_by_gender = pd.crosstab(titanic_df_final['Survived'], titanic_df_final['Sex'])\n",
    "survival_table_by_gender_df = pd.DataFrame(data=survival_table_by_gender)\n",
    "\n",
    "'''Creating a new dataframe based on the survival_table_by_gender_df that presents \n",
    "the proportion of survivors by Gender'''\n",
    "survival_table_by_gender_df_perc = pd.DataFrame()\n",
    "survival_table_by_gender_df_perc['female'] = survival_table_by_gender_df['female']/len(females)*100\n",
    "survival_table_by_gender_df_perc['male'] = survival_table_by_gender_df['male']/len(males)*100\n",
    "survival_table_by_gender_df_perc.rename(columns={'female': 'female %', 'male': 'male %'}, inplace=True)\n",
    "\n",
    "#Merging the above dataframes and adding a row that calculates the sum of each column\n",
    "final_survival_table_by_gender = pd.concat([survival_table_by_gender_df, survival_table_by_gender_df_perc], axis=1)\n",
    "sum_row = {col: final_survival_table_by_gender[col].sum() for col in final_survival_table_by_gender}\n",
    "sum_df = pd.DataFrame(sum_row, index=[\"Total\"])\n",
    "final_survival_table_by_gender = final_survival_table_by_gender.append(sum_df)\n",
    "final_survival_table_by_gender.round(1)"
   ]
  },
  {
   "cell_type": "markdown",
   "metadata": {},
   "source": [
    "From the above results it seems that gender was an important factor in the survival of each passenger. Only **18.9% of men survived** compared to **74.2% of women**. To further test this we can use a chi-square test of independence. So our two hypothesis are:\n",
    "\n",
    "**Ho** : Sex and Survived are independent variables  \n",
    "**Ha** : Sex and Survived are dependent variables  \n",
    "\n",
    "We will use 5% significance level."
   ]
  },
  {
   "cell_type": "code",
   "execution_count": 32,
   "metadata": {
    "collapsed": true
   },
   "outputs": [],
   "source": [
    "# importing the relevant statistical module to conduct our chi-square test\n",
    "from scipy.stats import chi2_contingency"
   ]
  },
  {
   "cell_type": "code",
   "execution_count": 33,
   "metadata": {
    "collapsed": false
   },
   "outputs": [
    {
     "data": {
      "text/plain": [
       "1.1973570627755645e-58"
      ]
     },
     "execution_count": 33,
     "metadata": {},
     "output_type": "execute_result"
    }
   ],
   "source": [
    "data_for_chi_test = np.array(titanic_df_final.groupby(['Sex','Survived'])['Sex'].count())\n",
    "data_for_chi_test.resize(2,2)\n",
    "chi2, p, dof, expected = chi2_contingency(data_for_chi_test)\n",
    "p"
   ]
  },
  {
   "cell_type": "markdown",
   "metadata": {},
   "source": [
    "Since the p-value is way less than 5%, we reject the null hypothesis that Sex and Survived are independent variables."
   ]
  },
  {
   "cell_type": "markdown",
   "metadata": {},
   "source": [
    "### Was age group a significant factor in survival?<a name=\"whichage\"></a>"
   ]
  },
  {
   "cell_type": "markdown",
   "metadata": {
    "collapsed": true
   },
   "source": [
    "As with the gender question we are going to use the aid of data visualisations in order to answer this question. "
   ]
  },
  {
   "cell_type": "code",
   "execution_count": 34,
   "metadata": {
    "collapsed": false
   },
   "outputs": [
    {
     "data": {
      "image/png": "[encoded data removed]",
      "text/plain": [
       "<matplotlib.figure.Figure at 0x8433d30>"
      ]
     },
     "metadata": {},
     "output_type": "display_data"
    }
   ],
   "source": [
    "f, (ax1, ax2) = plt.subplots(1, 2, figsize=(12,6))\n",
    "plt.subplots_adjust(left=None, bottom=None, right=None, top=None, wspace=0.4, hspace=None)\n",
    "\n",
    "# Creating a bar chart that presents age group distribution\n",
    "age_grouping = titanic_df_final.groupby('AgeGroup').size()/len(titanic_df_final)\n",
    "\n",
    "ax1.bar(range(len(age_grouping)), age_grouping, color='#8080ff' )\n",
    "ax1.set_ylabel('Proportion')\n",
    "ax1.set_title('Age Groups distribution', fontweight='bold')\n",
    "ax1.tick_params(axis='x', top='off', bottom='off')\n",
    "ax1.tick_params(axis='y', right='off')\n",
    "\n",
    "bin_labels2 = ['0-10', '11-20', '21-30', '31-40', '41-50', '51-60', '61-70', '71-80']\n",
    "tick_spacing2 = np.array(range(len(bin_labels2)))+0.4\n",
    "\n",
    "ax1.set_xticks(tick_spacing2)\n",
    "ax1.set_xticklabels(bin_labels2)\n",
    "\n",
    "\n",
    "survivors = titanic_df_final[titanic_df_final['Survived'] == 1]\n",
    "nonsurvivors = titanic_df_final[titanic_df_final['Survived'] == 0]\n",
    "\n",
    "# Grouping the survivors/nonsurvivors by age group and transforming the groupby item to a DataFrame \n",
    "surv_age = survivors.groupby('AgeGroup').size().reset_index()\n",
    "nonsurv_age = nonsurvivors.groupby('AgeGroup').size().reset_index()\n",
    "\n",
    "# Plotting the 2nd bar chart which presents survivors/nonsurvivors by age group\n",
    "ax2.bar(range(len(surv_age[0])), surv_age[0], label='Survivors', color='g') \n",
    "ax2.bar(range(len(nonsurv_age[0])), nonsurv_age[0], bottom=surv_age[0], \\\n",
    "        label='Nonsurvivors', color='r')\n",
    "ax2.set_ylabel('Number of passengers')\n",
    "ax2.set_title('Survivors vs Nonsurvivors \\nby Age Group', fontweight='bold')\n",
    "ax2.tick_params(axis='x', top='off', bottom='off')\n",
    "ax2.tick_params(axis='y', right='off')\n",
    "ax2.set_xticks(tick_spacing2)\n",
    "ax2.set_xticklabels(bin_labels2)\n",
    "ax2.legend(loc='upper right')\n",
    "\n",
    "plt.show()"
   ]
  },
  {
   "cell_type": "markdown",
   "metadata": {},
   "source": [
    "Most passengers belonged to the 21-30 and 31-40 age categories as we can see from the first bar chart. From the second bar chart we can notice that only the children in the age category 0-10 had a higher chance of surviving than dying in the shipwreck. In all the other age categories it is clear that the survival rate was below 50% because the red part of each bar is larger than the green part. We can confirm this by the following code: "
   ]
  },
  {
   "cell_type": "code",
   "execution_count": 35,
   "metadata": {
    "collapsed": false
   },
   "outputs": [
    {
     "data": {
      "text/plain": [
       "AgeGroup\n",
       "0-10     58.8\n",
       "11-20    38.3\n",
       "21-30    39.8\n",
       "31-40    33.3\n",
       "41-50    37.9\n",
       "51-60    40.5\n",
       "61-70    23.5\n",
       "71-80    20.0\n",
       "Name: Survived, dtype: float64"
      ]
     },
     "execution_count": 35,
     "metadata": {},
     "output_type": "execute_result"
    }
   ],
   "source": [
    "survival_per_age_group = titanic_df_final.groupby('AgeGroup')['Survived'].mean()*100\n",
    "survival_per_age_group.round(1)"
   ]
  },
  {
   "cell_type": "markdown",
   "metadata": {},
   "source": [
    "As expected the age group 0-10 had the highest survival rate (58.8%) and the only one that was above 50%. It is also visible that passengers of the age categories 60+ had the least chances to survive. For the other age categories the range of the survival rate varied in a relatively tight range (33.3% to 40.5%).  \n",
    "Knowning from the [previous question](#whichgender) the gender effect in survival, it is prudent to analyse the survival rate by gender for each age category and check if the above results still stand if we add the gender variable in our analysis."
   ]
  },
  {
   "cell_type": "code",
   "execution_count": 36,
   "metadata": {
    "collapsed": false
   },
   "outputs": [
    {
     "data": {
      "image/png": "[encoded data removed]",
      "text/plain": [
       "<matplotlib.figure.Figure at 0x8433a10>"
      ]
     },
     "metadata": {},
     "output_type": "display_data"
    }
   ],
   "source": [
    "survival_per_age_group_males = males.groupby('AgeGroup').Survived.mean()\n",
    "survival_per_age_group_females = females.groupby('AgeGroup').Survived.mean()\n",
    "survival_per_age_group_per_sex = pd.concat([survival_per_age_group_males, survival_per_age_group_females ], axis=1)\n",
    "\n",
    "# Creating the plot that will show survival % per age group and gender\n",
    "ax = survival_per_age_group_per_sex.plot(kind='bar', color=['lightblue', 'pink'])\n",
    "ax.set_title(\"Survivors by Gender and Age Group\", fontsize=14, fontweight='bold')\n",
    "ax.set_xlabel(\"Age Groups\")\n",
    "ax.set_ylabel(\"Percentage\")\n",
    "ax.tick_params(axis='x', top='off')\n",
    "ax.tick_params(axis='y', right='off')\n",
    "plt.legend(['Males','Females'], loc= 'upper left')\n",
    "plt.xticks(rotation='horizontal')             \n",
    "               \n",
    "# Importing the relevant fuction to format the y axis \n",
    "from matplotlib.ticker import FuncFormatter\n",
    "\n",
    "ax.yaxis.set_major_formatter(FuncFormatter(lambda y, _: '{:.0%}'.format(y)))\n",
    "plt.show()"
   ]
  },
  {
   "cell_type": "markdown",
   "metadata": {},
   "source": [
    "This graph shows that women irrespectively of age group had a chance of survival of more than 60%. Also the above graph reveals that men had few chances of survival in all age groups except in the age group 0-10 where their survival rate was above 50% and way above their average. The fact that men were almost twice as much as women (577 vs 314) influenced the survival rates of the whole dataset. So splitting the data and visualising the results for men vs women was more than necessary. As for the answer in the question we can't really say that age group had a significant effect in survival by looking at the above graph. We can't spot any clear pattern, but without doubt we can say that **the survival rate for male children 0-10 years old was way higher than the survival rate of other males**."
   ]
  },
  {
   "cell_type": "markdown",
   "metadata": {},
   "source": [
    "### Had people who travelled alone or people who travelled with family more chances to survive?<a name=\"hadpeople\"></a>"
   ]
  },
  {
   "cell_type": "markdown",
   "metadata": {
    "collapsed": true
   },
   "source": [
    "Lets explore the above question. Using the code below we can draw relevant bar charts to visualize our data once again."
   ]
  },
  {
   "cell_type": "code",
   "execution_count": 37,
   "metadata": {
    "collapsed": false,
    "scrolled": true
   },
   "outputs": [
    {
     "data": {
      "image/png": "[encoded data removed]",
      "text/plain": [
       "<matplotlib.figure.Figure at 0x872c570>"
      ]
     },
     "metadata": {},
     "output_type": "display_data"
    }
   ],
   "source": [
    "f, (ax1, ax2) = plt.subplots(1, 2, figsize=(12,6))\n",
    "plt.subplots_adjust(left=None, bottom=None, right=None, top=None, wspace=0.4, hspace=None)\n",
    "\n",
    "\n",
    "# Creating a bar chart that presents the distribution of passengers travelling alone and travelling with familly\n",
    "family_trav = titanic_df_final.groupby(['Family']).size()/len(titanic_df_final)\n",
    "\n",
    "ax1.bar(range(len(family_trav)), family_trav, color=['#b3b3b3','#ac7339'], align = 'center', width=0.6)\n",
    "ax1.set_title('Travelling Alone vs \\nTravelling with Family distribution', fontsize=14, fontweight='bold')\n",
    "ax1.tick_params(axis='x', top='off')\n",
    "ax1.tick_params(axis='y', right='off')\n",
    "ax1.set_ylabel('Proportion')\n",
    "\n",
    "tick_spacing3 = [0., 1.]\n",
    "bin_labels3 = ['Alone', 'With Family']\n",
    "\n",
    "ax1.set_xticks(tick_spacing3)\n",
    "ax1.set_xticklabels(bin_labels3)\n",
    "\n",
    "\n",
    "'''\n",
    "Grouping the survivors/nonsurvivors by the condition of travelling alone or with family and \n",
    "transforming the groupby item to a DataFrame \n",
    "'''\n",
    "surv_fam = survivors.groupby('Family').size().reset_index()\n",
    "nonsurv_fam = nonsurvivors.groupby('Family').size().reset_index()\n",
    "\n",
    "# Plotting the 2nd bar chart which presents survivors/nonsurvivors by travelling alone and travelling with familly\n",
    "N=2\n",
    "ind = np.arange(N)\n",
    "p1 = ax2.bar(ind, surv_fam[0], color='g', width = 0.6, label='Survivors', align = 'center' )\n",
    "p2 = ax2.bar(ind, nonsurv_fam[0], color='r', width = 0.6, bottom=surv_fam[0], label='Nonsurvivors', align = 'center')\n",
    "ax2.set_ylabel('Number of passengers')\n",
    "ax2.set_title('Survivors vs Nonsurvivors by \\nTravelling Alone or With Family', fontweight='bold')\n",
    "ax2.tick_params(axis='x', top='off')\n",
    "ax2.tick_params(axis='y', right='off')\n",
    "ax2.set_xticks(tick_spacing3)\n",
    "ax2.set_xticklabels(bin_labels3)\n",
    "ax2.set_yticks(np.arange(0, 650, 50))\n",
    "ax2.legend(loc='upper right')\n",
    "\n",
    "plt.show() "
   ]
  },
  {
   "cell_type": "markdown",
   "metadata": {},
   "source": [
    "60% of passengers were travelling alone versus 40% that were travelling with family. By looking at the second graph it seems that travelling with family had a positive effect on survival. We will split the data once more by gender because this may reveal additional insights about our dataset. "
   ]
  },
  {
   "cell_type": "code",
   "execution_count": 38,
   "metadata": {
    "collapsed": false
   },
   "outputs": [
    {
     "data": {
      "image/png": "[encoded data removed]",
      "text/plain": [
       "<matplotlib.figure.Figure at 0x85010f0>"
      ]
     },
     "metadata": {},
     "output_type": "display_data"
    }
   ],
   "source": [
    "alone = titanic_df_final[titanic_df_final.Family == 0]\n",
    "with_family = titanic_df_final[titanic_df_final.Family == 1]\n",
    "\n",
    "survival_alone_by_gender = alone.groupby('Sex').Survived.mean()\n",
    "survival_with_family_by_gender = with_family.groupby('Sex').Survived.mean()\n",
    "survival__trav_alone_or_withfam_by_gender = pd.concat([survival_alone_by_gender, survival_with_family_by_gender], axis=1)\n",
    "\n",
    "# Creating the plot that will show survival rate per gender and per travelling alone or with family\n",
    "ax = survival__trav_alone_or_withfam_by_gender.plot(kind='bar', color=['#b3b3b3', '#ac7339'])\n",
    "ax.set_title(\"Survivors by Gender and \\nby Travelling Alone or With Family\", fontsize=14, fontweight='bold')\n",
    "ax.set_ylabel(\"Percentage\")\n",
    "ax.set_xlabel(\"\")\n",
    "ax.set_xticklabels(['Females', 'Males'])\n",
    "ax.tick_params(axis='x', top='off')\n",
    "ax.tick_params(axis='y', right='off')\n",
    "plt.legend(['Alone','With Family'], loc= 'upper right')\n",
    "plt.xticks(rotation='horizontal')             \n",
    "               \n",
    "#Importing the relevant module to format the y axis \n",
    "from matplotlib.ticker import FuncFormatter\n",
    "\n",
    "ax.yaxis.set_major_formatter(FuncFormatter(lambda y, _: '{:.0%}'.format(y)))\n",
    "plt.show()"
   ]
  },
  {
   "cell_type": "markdown",
   "metadata": {},
   "source": [
    "The above graph reveals that males travelling with family had more chances of survival than those travelling alone. The reverse relationship can be seen for females but to a much smaller extent. So by calculating the exact survival rate percentages for males... "
   ]
  },
  {
   "cell_type": "code",
   "execution_count": 39,
   "metadata": {
    "collapsed": false
   },
   "outputs": [
    {
     "data": {
      "text/plain": [
       "Family\n",
       "0    15.6\n",
       "1    27.1\n",
       "Name: Survived, dtype: float64"
      ]
     },
     "execution_count": 39,
     "metadata": {},
     "output_type": "execute_result"
    }
   ],
   "source": [
    "male_trav_survival = males.groupby('Family')['Survived'].mean()*100\n",
    "male_trav_survival.round(1)"
   ]
  },
  {
   "cell_type": "markdown",
   "metadata": {},
   "source": [
    "...we get 15.6% for those who travelled alone versus 27.1% for those with familly. To put these numbers into context this is a difference of:"
   ]
  },
  {
   "cell_type": "code",
   "execution_count": 40,
   "metadata": {
    "collapsed": false
   },
   "outputs": [
    {
     "data": {
      "text/plain": [
       "74.0"
      ]
     },
     "execution_count": 40,
     "metadata": {},
     "output_type": "execute_result"
    }
   ],
   "source": [
    "diff_trav_males = (male_trav_survival[1] - male_trav_survival[0])/male_trav_survival[0]*100\n",
    "diff_trav_males.round()"
   ]
  },
  {
   "cell_type": "markdown",
   "metadata": {},
   "source": [
    "....**74%** so we can conclude that **men travelling with family had more chances to survive than men travelling alone**. But despite this fact their survival rate was quite low compared to the survival rate of women. "
   ]
  },
  {
   "cell_type": "markdown",
   "metadata": {},
   "source": [
    "### Which class had the most chances to survive?<a name=\"wasclass\"></a>"
   ]
  },
  {
   "cell_type": "markdown",
   "metadata": {
    "collapsed": true
   },
   "source": [
    "Let's turn into the final question of this project. As a reminder class was a proxy for socioeconomic status."
   ]
  },
  {
   "cell_type": "code",
   "execution_count": 41,
   "metadata": {
    "collapsed": false
   },
   "outputs": [
    {
     "data": {
      "image/png": "[encoded data removed]",
      "text/plain": [
       "<matplotlib.figure.Figure at 0x84e40b0>"
      ]
     },
     "metadata": {},
     "output_type": "display_data"
    }
   ],
   "source": [
    "f, (ax1, ax2) = plt.subplots(1, 2, figsize=(12,6))\n",
    "plt.subplots_adjust(left=None, bottom=None, right=None, top=None, wspace=0.4, hspace=None)\n",
    "\n",
    "# Creating a bar chart that presents the distribution of passengers by class\n",
    "class_trav = titanic_df_final.groupby(['Pclass']).size()/len(titanic_df_final)\n",
    "\n",
    "ax1.bar(range(len(class_trav)), class_trav, color='#ac3939', align = 'center', width = 0.6)\n",
    "ax1.set_title('Passengers Class distribution', fontsize=14, fontweight='bold')\n",
    "ax1.tick_params(axis='x', top='off')\n",
    "ax1.tick_params(axis='y', right='off')\n",
    "ax1.set_ylabel('Proportion')\n",
    "\n",
    "tick_spacing4 = [0., 1., 2.]\n",
    "bin_labels4 = ['1st class', '2nd class', '3rd class']\n",
    "\n",
    "ax1.set_xticks(tick_spacing4)\n",
    "ax1.set_xticklabels(bin_labels4)\n",
    "\n",
    "\n",
    "# Grouping the survivors/nonsurvivors by class and transforming the groupby item to a DataFrame \n",
    "surv_class = survivors.groupby('Pclass').size().reset_index()\n",
    "nonsurv_class = nonsurvivors.groupby('Pclass').size().reset_index()\n",
    "\n",
    "# Plotting the 2nd bar chart which presents survivors/nonsurvivors by class\n",
    "N=3\n",
    "ind = np.arange(N)\n",
    "p1 = ax2.bar(ind, surv_class[0], color='g', width = 0.6, label='Survivors', align = 'center' )\n",
    "p2 = ax2.bar(ind, nonsurv_class[0], color='r', width = 0.6, bottom=surv_class[0], label='Nonsurvivors', align = 'center')\n",
    "ax2.set_ylabel('Number of passengers')\n",
    "ax2.set_title('Survivors vs Nonsurvivors by Class', fontweight='bold')\n",
    "ax2.tick_params(axis='x', top='off')\n",
    "ax2.tick_params(axis='y', right='off')\n",
    "ax2.set_xticks(tick_spacing4)\n",
    "ax2.set_xticklabels(bin_labels4)\n",
    "ax2.set_yticks(np.arange(0, 550, 50))\n",
    "ax2.legend(loc='upper right')\n",
    "\n",
    "plt.show() "
   ]
  },
  {
   "cell_type": "markdown",
   "metadata": {
    "collapsed": true
   },
   "source": [
    "From the first bar chart it can be seen that most passengers were travelling in the 3rd class. Just by visualizing the second bar chart it is apparent that people in this class had not only the most victims (which is natural because it was the most populated class by far) but also had the lowest percentage of survival. Lets be more specific and calculate the percentage of survival in each class: "
   ]
  },
  {
   "cell_type": "code",
   "execution_count": 42,
   "metadata": {
    "collapsed": false
   },
   "outputs": [
    {
     "data": {
      "text/plain": [
       "Pclass\n",
       "1    63.0\n",
       "2    47.3\n",
       "3    24.2\n",
       "Name: Survived, dtype: float64"
      ]
     },
     "execution_count": 42,
     "metadata": {},
     "output_type": "execute_result"
    }
   ],
   "source": [
    "surv_rate_by_class = titanic_df_final.groupby('Pclass')['Survived'].mean()*100\n",
    "surv_rate_by_class.round(1)"
   ]
  },
  {
   "cell_type": "markdown",
   "metadata": {},
   "source": [
    "The above results show that the first class passengers had the highest survival rate which was 63% followed by the second class passengers which had a survival rate of 47.3%. For the third class passengers more than 3/4 perished (24.2% survival rate). So it seems that there was a big difference between the survival rates of 1st vs 3rd class and 2nd vs 3rd class. Lets analyse our data a little bit further by adding gender in our analysis:  "
   ]
  },
  {
   "cell_type": "code",
   "execution_count": 43,
   "metadata": {
    "collapsed": false
   },
   "outputs": [
    {
     "data": {
      "image/png": "[encoded data removed]",
      "text/plain": [
       "<matplotlib.figure.Figure at 0x85186b0>"
      ]
     },
     "metadata": {},
     "output_type": "display_data"
    }
   ],
   "source": [
    "first_class = titanic_df_final[titanic_df_final.Pclass == 1]\n",
    "second_class = titanic_df_final[titanic_df_final.Pclass == 2]\n",
    "third_class = titanic_df_final[titanic_df_final.Pclass == 3]\n",
    "\n",
    "\n",
    "first_class_surv_by_gender = first_class.groupby('Sex').Survived.mean()\n",
    "second_class_surv_by_gender = second_class.groupby('Sex').Survived.mean()\n",
    "third_class_surv_by_gender = third_class.groupby('Sex').Survived.mean()\n",
    "\n",
    "survival_by_class_and_gender = pd.concat([first_class_surv_by_gender,second_class_surv_by_gender, third_class_surv_by_gender], axis=1)\n",
    "\n",
    "# Creating the plot that will show survival rate per gender and per class\n",
    "ax = survival_by_class_and_gender.plot(kind='bar', color=['#aa3939', '#7A9F35', '#226666'])\n",
    "ax.set_title(\"Survivors by Class and Gender\", fontsize=14, fontweight='bold')\n",
    "ax.set_ylabel(\"Percentage\")\n",
    "ax.set_xlabel(\"\")\n",
    "ax.set_xticklabels(['Females', 'Males'])\n",
    "ax.tick_params(axis='x', top='off')\n",
    "ax.tick_params(axis='y', right='off')\n",
    "plt.legend(['1rd Class','2nd Class', '3rd Class'], loc= 'upper right')\n",
    "plt.xticks(rotation='horizontal')             \n",
    "               \n",
    "ax.yaxis.set_major_formatter(FuncFormatter(lambda y, _: '{:.0%}'.format(y)))\n",
    "plt.show()"
   ]
  },
  {
   "cell_type": "markdown",
   "metadata": {
    "collapsed": true
   },
   "source": [
    "The above bar chart confirms what we have observed before. For both men and women **the survival rate for 1st class passengers was much more higher compared with the survival rate of 3rd class passengers. The same applies for the second class vs third class passengers but only for women**.   "
   ]
  },
  {
   "cell_type": "markdown",
   "metadata": {},
   "source": [
    "## Conclusions Phase<a name=\"conclusionsphase\"></a>"
   ]
  },
  {
   "cell_type": "markdown",
   "metadata": {
    "collapsed": true
   },
   "source": [
    "With this project we managed to extract several interesting insights about the Titanic shipwreck. To sum up:   \n",
    "\n",
    "**1) 62% of passengers perished in the sinking.**\n",
    "\n",
    "In the wikipedia [article](https://en.wikipedia.org/wiki/Sinking_of_the_RMS_Titanic) about the sinking of the Titanic we are informed that: \"In the aftermath of the sinking, public inquiries were set up in Britain and the United States....They reached broadly similar conclusions: the regulations on the number of lifeboats that ships had to carry were out of date and inadequate;..... the lifeboats had not been properly filled or crewed...\". \n",
    "\n",
    "**2) Gender had a significant role in the survival of each passenger. Only 18.9% of men survived compared to 74.2% of women.**  \n",
    "**3) The male age group 0-10 had more chances to survive than the other males.**   \n",
    "\n",
    "In another wikipedia [article](https://en.wikipedia.org/wiki/Women_and_children_first) we are informed that 'Women and children first' code of conduct was followed during the sinking of the Titanic. By this code of conduct the lives of women and children are to be saved first in a life-threatening situation, typically abandoning ship, when survival resources such as lifeboats are limited. \n",
    "\n",
    "\n",
    "**4) It seems that males travelling with family had more chances to survive than males travelling alone.**   \n",
    "\n",
    "The total capacity of lifeboats was more than enough for all women and childen onboard the Titanic, see [here](http://www.anesi.com/titanic.htm). So it seems logical to assume that the vacant seats in the lifeboats were filled by the fathers of children and husbands of wifes that were saved instead of being filled by men travelling alone. \n",
    "\n",
    "**5) 1st class passengers had higher chances of surviving compared to 3rd class passengers. The same applies for 2nd class women vs 3rd class.**   \n",
    "\n",
    "Once again quoting the wikipedia [article](https://en.wikipedia.org/wiki/Sinking_of_the_RMS_Titanic) we are informed that: \"Few third-class (steerage) passengers had made it up onto the deck, and most were still lost in the maze of corridors or trapped behind barriers and partitions that segregated the accommodation for the steerage passengers from the first- and second-class areas......A long and winding route had to be taken to reach topside; the steerage-class accommodation, located on C through G decks, was at the extreme ends of the decks, and so was the farthest away from the lifeboats. By contrast, the first-class accommodation was located on the upper decks and so was nearest. Proximity to the lifeboats thus became a key factor in determining who got into them. To add to the difficulty, many of the steerage passengers did not understand or speak English.\" \n",
    "\n",
    "\n",
    "### Limitations of the project\n",
    "\n",
    "Despite having checked the validity of our conclusions with external sources, this is not always feasible in similar projects. Titanic shipwreck is the most infamous maritime accident of the 20th century and is documented in films, books and analysed extensively, that's why we could confirm our findings.  \n",
    "\n",
    "As we conclude our project we need to clarify a few things about our analysis. First of all we had a lot of missing values in the variables Age and Cabin. We entirely dropped the Cabin variable which may have been used in the analysis in order to locate where each passenger was during the sinking and determine if cabin location was significant in survival. Also 20% of the Age variable values were missing and we had to fill these values by creating the variable Title. We also dropped the variables PassengerId, Name, Ticket and we didn't use the variable Embarked in our analysis. Finally, we should not forget that our dataset was a sample of the actual Titanic population. In any case, all those limitations must be taken into consideration when someone explores the findings of this project.   \n",
    " "
   ]
  },
  {
   "cell_type": "markdown",
   "metadata": {
    "collapsed": true
   },
   "source": [
    "### References"
   ]
  },
  {
   "cell_type": "markdown",
   "metadata": {},
   "source": [
    "**1)** https://en.wikipedia.org/wiki/Sinking_of_the_RMS_Titanic  \n",
    "**2)** https://www.kaggle.com/c/titanic  \n",
    "**3)** Python Software Foundation. Python Language Reference, version 2.7. Available at http://www.python.org  \n",
    "**4)** Stéfan van der Walt, S. Chris Colbert and Gaël Varoquaux. The NumPy Array: A Structure for Efficient Numerical Computation, Computing in Science & Engineering, 13, 22-30 (2011), http://scitation.aip.org/content/aip/journal/cise/13/2/10.1109/MCSE.2011.37  \n",
    "**5)** Wes McKinney. Data Structures for Statistical Computing in Python, Proceedings of the 9th Python in Science Conference, 51-56 (2010)http://conference.scipy.org/proceedings/scipy2010/mckinney.html  \n",
    "**6)** John D. Hunter. Matplotlib: A 2D Graphics Environment, Computing in Science & Engineering, 9, 90-95 (2007), DOI:10.1109/MCSE.2007.55  \n",
    "**7)** Jones E, Oliphant E, Peterson P, et al. SciPy: Open Source Scientific Tools for Python, 2001-, http://www.scipy.org/   \n",
    "**8)** https://en.wikipedia.org/wiki/Women_and_children_first  \n",
    "**9)** http://www.anesi.com/titanic.htm"
   ]
  }
 ],
 "metadata": {
  "anaconda-cloud": {},
  "kernelspec": {
   "display_name": "Python [Root]",
   "language": "python",
   "name": "Python [Root]"
  },
  "language_info": {
   "codemirror_mode": {
    "name": "ipython",
    "version": 2
   },
   "file_extension": ".py",
   "mimetype": "text/x-python",
   "name": "python",
   "nbconvert_exporter": "python",
   "pygments_lexer": "ipython2",
   "version": "2.7.11"
  }
 },
 "nbformat": 4,
 "nbformat_minor": 0
}
